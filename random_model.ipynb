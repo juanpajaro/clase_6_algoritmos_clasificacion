{
 "cells": [
  {
   "cell_type": "code",
   "execution_count": 9,
   "id": "35a94b00",
   "metadata": {},
   "outputs": [],
   "source": [
    "import numpy as np\n",
    "import pandas as pd\n",
    "from sklearn.model_selection import train_test_split\n",
    "from sklearn.ensemble import RandomForestClassifier\n",
    "from sklearn.ensemble import GradientBoostingClassifier\n",
    "from sklearn.metrics import accuracy_score, classification_report, confusion_matrix\n",
    "import matplotlib.pyplot as plt"
   ]
  },
  {
   "cell_type": "code",
   "execution_count": null,
   "id": "e5d856a0",
   "metadata": {},
   "outputs": [],
   "source": [
    "data = pd.read_csv('datos_salud.csv')\n",
    "data.head(20)"
   ]
  },
  {
   "cell_type": "code",
   "execution_count": null,
   "id": "0618e536",
   "metadata": {},
   "outputs": [],
   "source": [
    "# Variables predictoras y objetivo\n",
    "X = data[['edad', 'imc', 'fuma', \"ejercicio\"]]\n",
    "y = data['riesgo_alto']"
   ]
  },
  {
   "cell_type": "code",
   "execution_count": null,
   "id": "9f9703b7",
   "metadata": {},
   "outputs": [],
   "source": [
    "# División entrenamiento / prueba\n",
    "X_train, X_test, y_train, y_test = train_test_split(X, y, test_size=0.3, random_state=42)"
   ]
  },
  {
   "cell_type": "code",
   "execution_count": null,
   "id": "4141231a",
   "metadata": {},
   "outputs": [],
   "source": [
    "# Entrenar modelo Random Forest\n",
    "rf = RandomForestClassifier(n_estimators=100, random_state=42)\n",
    "rf.fit(X_train, y_train)"
   ]
  },
  {
   "cell_type": "code",
   "execution_count": null,
   "id": "b7ec9eeb",
   "metadata": {},
   "outputs": [],
   "source": [
    "# Predicciones\n",
    "y_pred_rf = rf.predict(X_test)"
   ]
  },
  {
   "cell_type": "code",
   "execution_count": null,
   "id": "a07fa8c3",
   "metadata": {},
   "outputs": [],
   "source": [
    "# Evaluación\n",
    "print(\"=== Random Forest ===\")\n",
    "print(classification_report(y_test, y_pred_rf))\n",
    "print(confusion_matrix(y_test, y_pred_rf))\n",
    "print(f\"Precisión: {accuracy_score(y_test, y_pred_rf):.3f}\")"
   ]
  },
  {
   "cell_type": "code",
   "execution_count": null,
   "id": "78dee768",
   "metadata": {},
   "outputs": [],
   "source": [
    "# Importancia de características\n",
    "plt.figure(figsize=(6,4))\n",
    "plt.bar(X.columns, rf.feature_importances_, color='green', alpha=0.7)\n",
    "plt.title(\"Importancia de variables - Random Forest\")\n",
    "plt.show()"
   ]
  },
  {
   "cell_type": "code",
   "execution_count": null,
   "id": "a823d8da",
   "metadata": {},
   "outputs": [],
   "source": [
    "# Entrenar modelo Gradient Boosting\n",
    "gb = GradientBoostingClassifier(\n",
    "    n_estimators=100,\n",
    "    learning_rate=0.01,\n",
    "    max_depth=3,\n",
    "    random_state=42\n",
    ")\n",
    "gb.fit(X_train, y_train)"
   ]
  },
  {
   "cell_type": "code",
   "execution_count": null,
   "id": "a7875db6",
   "metadata": {},
   "outputs": [],
   "source": [
    "# Predicciones\n",
    "y_pred_gb = gb.predict(X_test)"
   ]
  },
  {
   "cell_type": "code",
   "execution_count": null,
   "id": "3bcd52e2",
   "metadata": {},
   "outputs": [],
   "source": [
    "# Evaluación\n",
    "print(\"=== Gradient Boosting ===\")\n",
    "print(classification_report(y_test, y_pred_gb))\n",
    "print(confusion_matrix(y_test, y_pred_gb))\n",
    "print(f\"Precisión: {accuracy_score(y_test, y_pred_gb):.3f}\")"
   ]
  },
  {
   "cell_type": "code",
   "execution_count": null,
   "id": "83bd0895",
   "metadata": {},
   "outputs": [],
   "source": [
    "# Importancia de características\n",
    "plt.figure(figsize=(6,4))\n",
    "plt.bar(X.columns, gb.feature_importances_, color='orange', alpha=0.7)\n",
    "plt.title(\"Importancia de variables - Gradient Boosting\")\n",
    "plt.show()"
   ]
  },
  {
   "cell_type": "code",
   "execution_count": null,
   "id": "180c3b04",
   "metadata": {},
   "outputs": [],
   "source": []
  }
 ],
 "metadata": {
  "kernelspec": {
   "display_name": "virtual (3.9.6)",
   "language": "python",
   "name": "python3"
  },
  "language_info": {
   "codemirror_mode": {
    "name": "ipython",
    "version": 3
   },
   "file_extension": ".py",
   "mimetype": "text/x-python",
   "name": "python",
   "nbconvert_exporter": "python",
   "pygments_lexer": "ipython3",
   "version": "3.9.6"
  }
 },
 "nbformat": 4,
 "nbformat_minor": 5
}
